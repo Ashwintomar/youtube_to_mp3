{
 "cells": [
  {
   "attachments": {},
   "cell_type": "markdown",
   "metadata": {},
   "source": [
    "Importing useful libraries"
   ]
  },
  {
   "cell_type": "code",
   "execution_count": 7,
   "metadata": {},
   "outputs": [
    {
     "data": {
      "text/plain": [
       "True"
      ]
     },
     "execution_count": 7,
     "metadata": {},
     "output_type": "execute_result"
    }
   ],
   "source": [
    "import requests\n",
    "import os\n",
    "from dotenv import load_dotenv\n",
    "load_dotenv()"
   ]
  },
  {
   "attachments": {},
   "cell_type": "markdown",
   "metadata": {},
   "source": [
    "Creating a function to search song's id and link from query"
   ]
  },
  {
   "cell_type": "code",
   "execution_count": 8,
   "metadata": {},
   "outputs": [],
   "source": [
    "def get_link(querystring):\n",
    "  url = \"https://youtube-music-downloader-mp3.p.rapidapi.com/v2/search\"\n",
    "  headers = {\n",
    "    \"X-RapidAPI-Key\": os.getenv(\"X-RapidAPI-Key\"),\n",
    "    \"X-RapidAPI-Host\": os.getenv(\"X-RapidAPI-Host_search\")\n",
    "  }\n",
    "  response = requests.request(\"GET\", url, headers=headers, params=querystring)\n",
    "  res_json = response.json()\n",
    "  res_id = res_json['result']['songs'][0]['id']\n",
    "  # res_link = \"https://www.youtube.com/watch?v=\"+res_id\n",
    "  return res_id"
   ]
  },
  {
   "attachments": {},
   "cell_type": "markdown",
   "metadata": {},
   "source": [
    "Creating a function to create a download link using the video id"
   ]
  },
  {
   "cell_type": "code",
   "execution_count": 9,
   "metadata": {},
   "outputs": [],
   "source": [
    "def get_mp3(yt_id):\n",
    "\n",
    "  url = \"https://youtube-mp36.p.rapidapi.com/dl\"\n",
    "  querystring = {\"id\":str(yt_id)}\n",
    "  headers = {\n",
    "  \t\"X-RapidAPI-Key\": os.getenv(\"X-RapidAPI-Key\"),\n",
    "  \t\"X-RapidAPI-Host\": os.getenv(\"X-RapidAPI-Host_download\")\n",
    "  }\n",
    "  response = requests.request(\"GET\", url, headers=headers, params=querystring)\n",
    "  res = response.json()\n",
    "  download_link = res['link']\n",
    "  return download_link"
   ]
  },
  {
   "attachments": {},
   "cell_type": "markdown",
   "metadata": {},
   "source": [
    "Creating a function that uses the previous functions to download main file from newly created download link."
   ]
  },
  {
   "cell_type": "code",
   "execution_count": 10,
   "metadata": {},
   "outputs": [],
   "source": [
    "def download_yt_mp3(inp):\n",
    "  yt_id = (get_link({\"query\":inp}))\n",
    "  res_down_link = get_mp3(yt_id)\n",
    "  response = requests.get(res_down_link)\n",
    "  open(\"file.mp3\", \"wb\").write(response.content)"
   ]
  },
  {
   "attachments": {},
   "cell_type": "markdown",
   "metadata": {},
   "source": [
    "Initialising the code with a song's name"
   ]
  },
  {
   "cell_type": "code",
   "execution_count": 11,
   "metadata": {},
   "outputs": [],
   "source": [
    "download_yt_mp3(input(\"Please enter a song's name : \"))"
   ]
  },
  {
   "attachments": {},
   "cell_type": "markdown",
   "metadata": {},
   "source": [
    "Additional code to delete the file if needed."
   ]
  },
  {
   "cell_type": "code",
   "execution_count": 13,
   "metadata": {},
   "outputs": [],
   "source": [
    "# os.remove(\"file.mp3\")"
   ]
  }
 ],
 "metadata": {
  "kernelspec": {
   "display_name": "Python 3",
   "language": "python",
   "name": "python3"
  },
  "language_info": {
   "codemirror_mode": {
    "name": "ipython",
    "version": 3
   },
   "file_extension": ".py",
   "mimetype": "text/x-python",
   "name": "python",
   "nbconvert_exporter": "python",
   "pygments_lexer": "ipython3",
   "version": "3.10.0"
  },
  "orig_nbformat": 4,
  "vscode": {
   "interpreter": {
    "hash": "23cdf5444714725874b53ee9c2a72fed262e3bd7040fb8ff88dd9cf6e143f4b4"
   }
  }
 },
 "nbformat": 4,
 "nbformat_minor": 2
}
